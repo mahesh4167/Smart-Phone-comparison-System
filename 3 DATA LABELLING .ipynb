{
 "cells": [
  {
   "cell_type": "code",
   "execution_count": 12,
   "id": "cf41bc1b",
   "metadata": {},
   "outputs": [],
   "source": [
    "import pandas as pd\n",
    "import numpy as np\n",
    "import seaborn as sns"
   ]
  },
  {
   "cell_type": "code",
   "execution_count": 13,
   "id": "5d907432",
   "metadata": {},
   "outputs": [],
   "source": [
    "df = pd.read_csv(r\"C:\\Users\\YASH KHADTARE\\FERGUSSON\\SEM 3\\Final year Project\\DATA.csv\")"
   ]
  },
  {
   "cell_type": "code",
   "execution_count": 14,
   "id": "f54bba37",
   "metadata": {},
   "outputs": [],
   "source": [
    "df.drop(\"Unnamed: 0\", axis = 1 , inplace = True)"
   ]
  },
  {
   "cell_type": "code",
   "execution_count": 15,
   "id": "fac43884",
   "metadata": {},
   "outputs": [],
   "source": [
    "df.dropna(inplace = True)"
   ]
  },
  {
   "cell_type": "code",
   "execution_count": 16,
   "id": "866f8c34",
   "metadata": {},
   "outputs": [
    {
     "data": {
      "text/plain": [
       "<Axes: xlabel='rating_by_reviewer', ylabel='count'>"
      ]
     },
     "execution_count": 16,
     "metadata": {},
     "output_type": "execute_result"
    },
    {
     "data": {
      "image/png": "[encoded data removed]",
      "text/plain": [
       "<Figure size 640x480 with 1 Axes>"
      ]
     },
     "metadata": {},
     "output_type": "display_data"
    }
   ],
   "source": [
    "sns.countplot(df , x ='rating_by_reviewer')"
   ]
  },
  {
   "cell_type": "code",
   "execution_count": 17,
   "id": "dbc0b7a5",
   "metadata": {},
   "outputs": [
    {
     "data": {
      "text/plain": [
       "5    211741\n",
       "4     71163\n",
       "1     33124\n",
       "3     27589\n",
       "2     11143\n",
       "Name: rating_by_reviewer, dtype: int64"
      ]
     },
     "execution_count": 17,
     "metadata": {},
     "output_type": "execute_result"
    }
   ],
   "source": [
    "df['rating_by_reviewer'].value_counts()"
   ]
  },
  {
   "cell_type": "markdown",
   "id": "a59f1377",
   "metadata": {},
   "source": [
    "# Common lengths of comments"
   ]
  },
  {
   "cell_type": "code",
   "execution_count": 18,
   "id": "9bdee418",
   "metadata": {
    "scrolled": true
   },
   "outputs": [],
   "source": [
    "length = [len(str(comment)) for comment in df['cleaned_review']]\n",
    "length.sort()"
   ]
  },
  {
   "cell_type": "code",
   "execution_count": 19,
   "id": "02b05cb1",
   "metadata": {},
   "outputs": [],
   "source": [
    "import statistics"
   ]
  },
  {
   "cell_type": "code",
   "execution_count": 20,
   "id": "3de4c239",
   "metadata": {},
   "outputs": [
    {
     "data": {
      "text/plain": [
       "[4]"
      ]
     },
     "execution_count": 20,
     "metadata": {},
     "output_type": "execute_result"
    }
   ],
   "source": [
    "statistics.multimode(length)"
   ]
  },
  {
   "cell_type": "code",
   "execution_count": 21,
   "id": "ca473011",
   "metadata": {},
   "outputs": [
    {
     "data": {
      "text/plain": [
       "53163"
      ]
     },
     "execution_count": 21,
     "metadata": {},
     "output_type": "execute_result"
    }
   ],
   "source": [
    "length.count(4)"
   ]
  },
  {
   "cell_type": "markdown",
   "id": "ef38055a",
   "metadata": {},
   "source": [
    "# WE WILL CHOOSE RANDOM 25K COMMENTS OF EACH CLASS AND LABEL IT ON BASIS OF RATINGS"
   ]
  },
  {
   "cell_type": "markdown",
   "id": "af46bbcb",
   "metadata": {},
   "source": [
    "# so 4 and 5 = Positive class and 1 and 2 = negative class, we will not choose class 3 "
   ]
  },
  {
   "cell_type": "markdown",
   "id": "c636c86d",
   "metadata": {},
   "source": [
    "# Here we use Random Sampling"
   ]
  },
  {
   "cell_type": "code",
   "execution_count": 22,
   "id": "93e0faca",
   "metadata": {},
   "outputs": [],
   "source": [
    "star1 = df[['rating_by_reviewer','review','cleaned_review']][df['rating_by_reviewer']==1].sample(15000)\n",
    "star2 = df[['rating_by_reviewer','review','cleaned_review']][df['rating_by_reviewer']==2].sample(10000)\n",
    "star4 = df[['rating_by_reviewer','review','cleaned_review']][df['rating_by_reviewer']==4].sample(12500)\n",
    "star5 = df[['rating_by_reviewer','review','cleaned_review']][df['rating_by_reviewer']==5].sample(12500)"
   ]
  },
  {
   "cell_type": "code",
   "execution_count": 23,
   "id": "eb1daf33",
   "metadata": {},
   "outputs": [
    {
     "data": {
      "text/html": [
       "<div>\n",
       "<style scoped>\n",
       "    .dataframe tbody tr th:only-of-type {\n",
       "        vertical-align: middle;\n",
       "    }\n",
       "\n",
       "    .dataframe tbody tr th {\n",
       "        vertical-align: top;\n",
       "    }\n",
       "\n",
       "    .dataframe thead th {\n",
       "        text-align: right;\n",
       "    }\n",
       "</style>\n",
       "<table border=\"1\" class=\"dataframe\">\n",
       "  <thead>\n",
       "    <tr style=\"text-align: right;\">\n",
       "      <th></th>\n",
       "      <th>rating_by_reviewer</th>\n",
       "      <th>review</th>\n",
       "      <th>cleaned_review</th>\n",
       "    </tr>\n",
       "  </thead>\n",
       "  <tbody>\n",
       "    <tr>\n",
       "      <th>315391</th>\n",
       "      <td>1</td>\n",
       "      <td>second hand phone.... Delever to me...</td>\n",
       "      <td>second hand phone delever</td>\n",
       "    </tr>\n",
       "    <tr>\n",
       "      <th>258387</th>\n",
       "      <td>1</td>\n",
       "      <td>Very very.....bad.... product</td>\n",
       "      <td>verybad product</td>\n",
       "    </tr>\n",
       "    <tr>\n",
       "      <th>230263</th>\n",
       "      <td>1</td>\n",
       "      <td>Don't buy this phone guys ..I got a dust parti...</td>\n",
       "      <td>dont buy phone guy get dust particle camera le...</td>\n",
       "    </tr>\n",
       "    <tr>\n",
       "      <th>243290</th>\n",
       "      <td>1</td>\n",
       "      <td>I love pixel phone But this pixel is not good ...</td>\n",
       "      <td>love pixel phone pixel good hot issue phone ha...</td>\n",
       "    </tr>\n",
       "    <tr>\n",
       "      <th>15169</th>\n",
       "      <td>1</td>\n",
       "      <td>More heating.</td>\n",
       "      <td>heating</td>\n",
       "    </tr>\n",
       "    <tr>\n",
       "      <th>...</th>\n",
       "      <td>...</td>\n",
       "      <td>...</td>\n",
       "      <td>...</td>\n",
       "    </tr>\n",
       "    <tr>\n",
       "      <th>249439</th>\n",
       "      <td>5</td>\n",
       "      <td>Futuristic phone , pretty fast , good config ,...</td>\n",
       "      <td>futuristic phone pretty fast good config dont ...</td>\n",
       "    </tr>\n",
       "    <tr>\n",
       "      <th>118088</th>\n",
       "      <td>5</td>\n",
       "      <td>Very nice phoneMust buy</td>\n",
       "      <td>nice phone must buy</td>\n",
       "    </tr>\n",
       "    <tr>\n",
       "      <th>61985</th>\n",
       "      <td>5</td>\n",
       "      <td>Nice product</td>\n",
       "      <td>nice product</td>\n",
       "    </tr>\n",
       "    <tr>\n",
       "      <th>261202</th>\n",
       "      <td>5</td>\n",
       "      <td>Masha Allah very nice and beautiful mobile pho...</td>\n",
       "      <td>masha allah nice beautiful mobile phone thanku...</td>\n",
       "    </tr>\n",
       "    <tr>\n",
       "      <th>187632</th>\n",
       "      <td>5</td>\n",
       "      <td>Best mobile fast charging  battery backup good...</td>\n",
       "      <td>best mobile fast charge battery backup good di...</td>\n",
       "    </tr>\n",
       "  </tbody>\n",
       "</table>\n",
       "<p>50000 rows × 3 columns</p>\n",
       "</div>"
      ],
      "text/plain": [
       "        rating_by_reviewer                                             review  \\\n",
       "315391                   1             second hand phone.... Delever to me...   \n",
       "258387                   1                      Very very.....bad.... product   \n",
       "230263                   1  Don't buy this phone guys ..I got a dust parti...   \n",
       "243290                   1  I love pixel phone But this pixel is not good ...   \n",
       "15169                    1                                      More heating.   \n",
       "...                    ...                                                ...   \n",
       "249439                   5  Futuristic phone , pretty fast , good config ,...   \n",
       "118088                   5                            Very nice phoneMust buy   \n",
       "61985                    5                                       Nice product   \n",
       "261202                   5  Masha Allah very nice and beautiful mobile pho...   \n",
       "187632                   5  Best mobile fast charging  battery backup good...   \n",
       "\n",
       "                                           cleaned_review  \n",
       "315391                          second hand phone delever  \n",
       "258387                                    verybad product  \n",
       "230263  dont buy phone guy get dust particle camera le...  \n",
       "243290  love pixel phone pixel good hot issue phone ha...  \n",
       "15169                                             heating  \n",
       "...                                                   ...  \n",
       "249439  futuristic phone pretty fast good config dont ...  \n",
       "118088                                nice phone must buy  \n",
       "61985                                        nice product  \n",
       "261202  masha allah nice beautiful mobile phone thanku...  \n",
       "187632  best mobile fast charge battery backup good di...  \n",
       "\n",
       "[50000 rows x 3 columns]"
      ]
     },
     "execution_count": 23,
     "metadata": {},
     "output_type": "execute_result"
    }
   ],
   "source": [
    "labelling_data = pd.concat([star1,star2,star4,star5], axis = 0)\n",
    "labelling_data"
   ]
  },
  {
   "cell_type": "code",
   "execution_count": 24,
   "id": "622d302a",
   "metadata": {},
   "outputs": [
    {
     "data": {
      "text/plain": [
       "1    15000\n",
       "4    12500\n",
       "5    12500\n",
       "2    10000\n",
       "Name: rating_by_reviewer, dtype: int64"
      ]
     },
     "execution_count": 24,
     "metadata": {},
     "output_type": "execute_result"
    }
   ],
   "source": [
    "labelling_data['rating_by_reviewer'].value_counts()"
   ]
  },
  {
   "cell_type": "markdown",
   "id": "dd4df526",
   "metadata": {},
   "source": [
    "# Labelling DATA"
   ]
  },
  {
   "cell_type": "code",
   "execution_count": 25,
   "id": "5816d4db",
   "metadata": {},
   "outputs": [],
   "source": [
    "def positive_negative_class(i):\n",
    "    if i>=4:\n",
    "        return \"POSITIVE\"\n",
    "    else:\n",
    "        return \"NEGATIVE\""
   ]
  },
  {
   "cell_type": "code",
   "execution_count": 26,
   "id": "6d12a1a1",
   "metadata": {},
   "outputs": [
    {
     "data": {
      "text/html": [
       "<div>\n",
       "<style scoped>\n",
       "    .dataframe tbody tr th:only-of-type {\n",
       "        vertical-align: middle;\n",
       "    }\n",
       "\n",
       "    .dataframe tbody tr th {\n",
       "        vertical-align: top;\n",
       "    }\n",
       "\n",
       "    .dataframe thead th {\n",
       "        text-align: right;\n",
       "    }\n",
       "</style>\n",
       "<table border=\"1\" class=\"dataframe\">\n",
       "  <thead>\n",
       "    <tr style=\"text-align: right;\">\n",
       "      <th></th>\n",
       "      <th>rating_by_reviewer</th>\n",
       "      <th>review</th>\n",
       "      <th>cleaned_review</th>\n",
       "      <th>Sentiment</th>\n",
       "    </tr>\n",
       "  </thead>\n",
       "  <tbody>\n",
       "    <tr>\n",
       "      <th>315391</th>\n",
       "      <td>1</td>\n",
       "      <td>second hand phone.... Delever to me...</td>\n",
       "      <td>second hand phone delever</td>\n",
       "      <td>NEGATIVE</td>\n",
       "    </tr>\n",
       "    <tr>\n",
       "      <th>258387</th>\n",
       "      <td>1</td>\n",
       "      <td>Very very.....bad.... product</td>\n",
       "      <td>verybad product</td>\n",
       "      <td>NEGATIVE</td>\n",
       "    </tr>\n",
       "    <tr>\n",
       "      <th>230263</th>\n",
       "      <td>1</td>\n",
       "      <td>Don't buy this phone guys ..I got a dust parti...</td>\n",
       "      <td>dont buy phone guy get dust particle camera le...</td>\n",
       "      <td>NEGATIVE</td>\n",
       "    </tr>\n",
       "    <tr>\n",
       "      <th>243290</th>\n",
       "      <td>1</td>\n",
       "      <td>I love pixel phone But this pixel is not good ...</td>\n",
       "      <td>love pixel phone pixel good hot issue phone ha...</td>\n",
       "      <td>NEGATIVE</td>\n",
       "    </tr>\n",
       "    <tr>\n",
       "      <th>15169</th>\n",
       "      <td>1</td>\n",
       "      <td>More heating.</td>\n",
       "      <td>heating</td>\n",
       "      <td>NEGATIVE</td>\n",
       "    </tr>\n",
       "    <tr>\n",
       "      <th>...</th>\n",
       "      <td>...</td>\n",
       "      <td>...</td>\n",
       "      <td>...</td>\n",
       "      <td>...</td>\n",
       "    </tr>\n",
       "    <tr>\n",
       "      <th>249439</th>\n",
       "      <td>5</td>\n",
       "      <td>Futuristic phone , pretty fast , good config ,...</td>\n",
       "      <td>futuristic phone pretty fast good config dont ...</td>\n",
       "      <td>POSITIVE</td>\n",
       "    </tr>\n",
       "    <tr>\n",
       "      <th>118088</th>\n",
       "      <td>5</td>\n",
       "      <td>Very nice phoneMust buy</td>\n",
       "      <td>nice phone must buy</td>\n",
       "      <td>POSITIVE</td>\n",
       "    </tr>\n",
       "    <tr>\n",
       "      <th>61985</th>\n",
       "      <td>5</td>\n",
       "      <td>Nice product</td>\n",
       "      <td>nice product</td>\n",
       "      <td>POSITIVE</td>\n",
       "    </tr>\n",
       "    <tr>\n",
       "      <th>261202</th>\n",
       "      <td>5</td>\n",
       "      <td>Masha Allah very nice and beautiful mobile pho...</td>\n",
       "      <td>masha allah nice beautiful mobile phone thanku...</td>\n",
       "      <td>POSITIVE</td>\n",
       "    </tr>\n",
       "    <tr>\n",
       "      <th>187632</th>\n",
       "      <td>5</td>\n",
       "      <td>Best mobile fast charging  battery backup good...</td>\n",
       "      <td>best mobile fast charge battery backup good di...</td>\n",
       "      <td>POSITIVE</td>\n",
       "    </tr>\n",
       "  </tbody>\n",
       "</table>\n",
       "<p>50000 rows × 4 columns</p>\n",
       "</div>"
      ],
      "text/plain": [
       "        rating_by_reviewer                                             review  \\\n",
       "315391                   1             second hand phone.... Delever to me...   \n",
       "258387                   1                      Very very.....bad.... product   \n",
       "230263                   1  Don't buy this phone guys ..I got a dust parti...   \n",
       "243290                   1  I love pixel phone But this pixel is not good ...   \n",
       "15169                    1                                      More heating.   \n",
       "...                    ...                                                ...   \n",
       "249439                   5  Futuristic phone , pretty fast , good config ,...   \n",
       "118088                   5                            Very nice phoneMust buy   \n",
       "61985                    5                                       Nice product   \n",
       "261202                   5  Masha Allah very nice and beautiful mobile pho...   \n",
       "187632                   5  Best mobile fast charging  battery backup good...   \n",
       "\n",
       "                                           cleaned_review Sentiment  \n",
       "315391                          second hand phone delever  NEGATIVE  \n",
       "258387                                    verybad product  NEGATIVE  \n",
       "230263  dont buy phone guy get dust particle camera le...  NEGATIVE  \n",
       "243290  love pixel phone pixel good hot issue phone ha...  NEGATIVE  \n",
       "15169                                             heating  NEGATIVE  \n",
       "...                                                   ...       ...  \n",
       "249439  futuristic phone pretty fast good config dont ...  POSITIVE  \n",
       "118088                                nice phone must buy  POSITIVE  \n",
       "61985                                        nice product  POSITIVE  \n",
       "261202  masha allah nice beautiful mobile phone thanku...  POSITIVE  \n",
       "187632  best mobile fast charge battery backup good di...  POSITIVE  \n",
       "\n",
       "[50000 rows x 4 columns]"
      ]
     },
     "execution_count": 26,
     "metadata": {},
     "output_type": "execute_result"
    }
   ],
   "source": [
    "labelling_data['Sentiment'] = df['rating_by_reviewer'].apply(positive_negative_class)\n",
    "labelling_data"
   ]
  },
  {
   "cell_type": "code",
   "execution_count": 27,
   "id": "4dcd4ec1",
   "metadata": {},
   "outputs": [
    {
     "data": {
      "text/plain": [
       "<Axes: xlabel='Sentiment', ylabel='count'>"
      ]
     },
     "execution_count": 27,
     "metadata": {},
     "output_type": "execute_result"
    },
    {
     "data": {
      "image/png": "[encoded data removed]",
      "text/plain": [
       "<Figure size 640x480 with 1 Axes>"
      ]
     },
     "metadata": {},
     "output_type": "display_data"
    }
   ],
   "source": [
    "sns.countplot(labelling_data , x= 'Sentiment')"
   ]
  },
  {
   "cell_type": "markdown",
   "id": "881d1c8b",
   "metadata": {},
   "source": [
    "# HENCE WE ACQUIRED A BALANCED DATA"
   ]
  },
  {
   "cell_type": "code",
   "execution_count": 28,
   "id": "3673b21b",
   "metadata": {},
   "outputs": [
    {
     "data": {
      "text/plain": [
       "rating_by_reviewer    0\n",
       "review                0\n",
       "cleaned_review        0\n",
       "Sentiment             0\n",
       "dtype: int64"
      ]
     },
     "execution_count": 28,
     "metadata": {},
     "output_type": "execute_result"
    }
   ],
   "source": [
    "labelling_data.isnull().sum()"
   ]
  },
  {
   "cell_type": "code",
   "execution_count": 29,
   "id": "1b03832d",
   "metadata": {},
   "outputs": [],
   "source": [
    "labelling_data.to_csv(\"labelled_data.csv\")"
   ]
  },
  {
   "cell_type": "code",
   "execution_count": null,
   "id": "3da981e9",
   "metadata": {},
   "outputs": [],
   "source": []
  }
 ],
 "metadata": {
  "kernelspec": {
   "display_name": "Python 3 (ipykernel)",
   "language": "python",
   "name": "python3"
  },
  "language_info": {
   "codemirror_mode": {
    "name": "ipython",
    "version": 3
   },
   "file_extension": ".py",
   "mimetype": "text/x-python",
   "name": "python",
   "nbconvert_exporter": "python",
   "pygments_lexer": "ipython3",
   "version": "3.10.12"
  }
 },
 "nbformat": 4,
 "nbformat_minor": 5
}
